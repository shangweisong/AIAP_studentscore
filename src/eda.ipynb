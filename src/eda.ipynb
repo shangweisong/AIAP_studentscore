{
 "cells": [
  {
   "cell_type": "markdown",
   "metadata": {},
   "source": [
    "Import library"
   ]
  },
  {
   "cell_type": "code",
   "execution_count": 1,
   "metadata": {},
   "outputs": [],
   "source": [
    "import sqlite3 \n",
    "import pandas as pd\n",
    "import numpy as np\n",
    "import matplotlib as plt"
   ]
  },
  {
   "cell_type": "code",
   "execution_count": 30,
   "metadata": {},
   "outputs": [
    {
     "name": "stdout",
     "output_type": "stream",
     "text": [
      "Tables in the database:     name\n",
      "0  score\n",
      "   index  number_of_siblings direct_admission     CCA learning_style  \\\n",
      "0      0                   0              Yes  Sports         Visual   \n",
      "1      1                   2               No  Sports       Auditory   \n",
      "2      2                   0              Yes    None         Visual   \n",
      "3      3                   1               No   Clubs       Auditory   \n",
      "4      4                   0               No  Sports       Auditory   \n",
      "\n",
      "  student_id  gender tuition  final_test  n_male  n_female   age  \\\n",
      "0     ACN2BE  Female      No        69.0    14.0       2.0  16.0   \n",
      "1     FGXIIZ  Female      No        47.0     4.0      19.0  16.0   \n",
      "2     B9AI9F    Male      No        85.0    14.0       2.0  15.0   \n",
      "3     FEVM1T  Female     Yes        64.0     2.0      20.0  15.0   \n",
      "4     AXZN2E    Male      No        66.0    24.0       3.0  16.0   \n",
      "\n",
      "   hours_per_week  attendance_rate sleep_time wake_time  mode_of_transport  \\\n",
      "0            10.0             91.0      22:00      6:00  private transport   \n",
      "1             7.0             94.0      22:30      6:30  private transport   \n",
      "2             8.0             92.0      22:30      6:30  private transport   \n",
      "3            18.0              NaN      21:00      5:00   public transport   \n",
      "4             7.0             95.0      21:30      5:30   public transport   \n",
      "\n",
      "  bag_color  \n",
      "0    yellow  \n",
      "1     green  \n",
      "2     white  \n",
      "3    yellow  \n",
      "4    yellow  \n"
     ]
    },
    {
     "data": {
      "text/plain": [
       "<function Connection.close()>"
      ]
     },
     "execution_count": 30,
     "metadata": {},
     "output_type": "execute_result"
    }
   ],
   "source": [
    "db_path = \"/Users/shangweisong/Desktop/AIAP_Student_score/data/score.db\"\n",
    "\n",
    "conn = sqlite3.connect(db_path)\n",
    "query = \"SELECT name FROM sqlite_master WHERE type='table';\"\n",
    "tables = pd.read_sql(query, conn)\n",
    "\n",
    "print(\"Tables in the database:\", tables)\n",
    "\n",
    "# Load a specific table into a DataFrame\n",
    "\n",
    "df = pd.read_sql_query(\"SELECT * FROM score;\", conn)  # replace with your table name\n",
    "\n",
    "# Preview the data\n",
    "print(df.head())\n",
    "conn.close"
   ]
  },
  {
   "cell_type": "code",
   "execution_count": null,
   "metadata": {},
   "outputs": [],
   "source": []
  }
 ],
 "metadata": {
  "kernelspec": {
   "display_name": "Python 3",
   "language": "python",
   "name": "python3"
  },
  "language_info": {
   "codemirror_mode": {
    "name": "ipython",
    "version": 3
   },
   "file_extension": ".py",
   "mimetype": "text/x-python",
   "name": "python",
   "nbconvert_exporter": "python",
   "pygments_lexer": "ipython3",
   "version": "3.13.0"
  }
 },
 "nbformat": 4,
 "nbformat_minor": 2
}
